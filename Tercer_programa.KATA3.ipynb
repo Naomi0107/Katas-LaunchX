{
 "cells": [
  {
   "cell_type": "markdown",
   "metadata": {},
   "source": [
    "# Ejercicio 1"
   ]
  },
  {
   "cell_type": "code",
   "execution_count": 7,
   "metadata": {},
   "outputs": [
    {
     "name": "stdout",
     "output_type": "stream",
     "text": [
      "La velocidad del asteoride es de 49 km/s\n",
      "¡ADVERTENCIA!, estamos en peligro\n"
     ]
    }
   ],
   "source": [
    "vel_aste = int(input(\"Ingrese la velocidad del asteroide: \"))\n",
    "if vel_aste > 25:\n",
    "    print(\"La velocidad del asteoride es de \"+ str(vel_aste)+ \" km/s\")\n",
    "    print (\"¡ADVERTENCIA!, estamos en peligro\")\n",
    "elif vel_aste < 25:\n",
    "    print(\"La velocidad del asteoride es de \"+ str(vel_aste)+ \" km/s\")\n",
    "    print (\"Estamos a salvo\")"
   ]
  },
  {
   "cell_type": "markdown",
   "metadata": {},
   "source": [
    "# Ejercicio 2"
   ]
  },
  {
   "cell_type": "code",
   "execution_count": 10,
   "metadata": {},
   "outputs": [
    {
     "name": "stdout",
     "output_type": "stream",
     "text": [
      "La velocidad del asteoride no permite que sea visible para los humanos. Lo sentimos\n"
     ]
    }
   ],
   "source": [
    "velocidad_ast = int(input(\"Ingrese la velocidad del asteroide: \"))\n",
    "\n",
    "if velocidad_ast >= 20:\n",
    "    print(\"La velocidad del asteoride es de \"+ str(velocidad_aste)+ \" km/s\")\n",
    "    print (\"Busca un asteoride en el cielo\")\n",
    "else:\n",
    "    print (\"La velocidad del asteoride no permite que sea visible para los humanos. Lo sentimos\")"
   ]
  },
  {
   "cell_type": "markdown",
   "metadata": {},
   "source": [
    "# Ejercicio 3\n"
   ]
  },
  {
   "cell_type": "code",
   "execution_count": 11,
   "metadata": {},
   "outputs": [
    {
     "name": "stdout",
     "output_type": "stream",
     "text": [
      "Look up! ¡Hay una luz mágica en el cielo!\n"
     ]
    }
   ],
   "source": [
    "velocidad_asteroide = 25\n",
    "tamano_asteroide = 40\n",
    "if velocidad_asteroide > 25 and tamano_asteroide > 25:\n",
    "    print('¡Alerta, Un asteroide muy peligroso viene hacia la Tierra!')\n",
    "elif velocidad_asteroide >= 20:\n",
    "    print('Look up! ¡Hay una luz mágica en el cielo!')\n",
    "elif tamano_asteroide < 25:\n",
    "    print('Nada que ver aquí :)')\n",
    "else:\n",
    "    print('Nada que ver aquí :)')"
   ]
  },
  {
   "cell_type": "code",
   "execution_count": null,
   "metadata": {},
   "outputs": [],
   "source": []
  }
 ],
 "metadata": {
  "interpreter": {
   "hash": "94abddcba5cf1fbdd1342addce217063e94d697423bfd55a2aeca769fcd0edf0"
  },
  "kernelspec": {
   "display_name": "Python 3.10.0 64-bit",
   "language": "python",
   "name": "python3"
  },
  "language_info": {
   "codemirror_mode": {
    "name": "ipython",
    "version": 3
   },
   "file_extension": ".py",
   "mimetype": "text/x-python",
   "name": "python",
   "nbconvert_exporter": "python",
   "pygments_lexer": "ipython3",
   "version": "3.10.0"
  },
  "orig_nbformat": 4
 },
 "nbformat": 4,
 "nbformat_minor": 2
}
