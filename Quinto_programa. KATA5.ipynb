{
 "cells": [
  {
   "cell_type": "markdown",
   "metadata": {},
   "source": [
    "# Ejercicio 1\n"
   ]
  },
  {
   "cell_type": "code",
   "execution_count": 8,
   "metadata": {},
   "outputs": [
    {
     "name": "stdout",
     "output_type": "stream",
     "text": [
      "La distancia entre los planetas es 628949330 km/s\n",
      "390577533.93\n"
     ]
    }
   ],
   "source": [
    "# Crear variables para almacenar las dos distancias\n",
    "d_planeta1= int(input(\"Ingresa la distancia del primer planeta (km/s): \"))\n",
    "d_planeta2= int(input(\"Ingresa la distancia del primer planeta(km/s): \"))\n",
    "\n",
    "# Calcular la distancia entre planetas\n",
    "d_planetas = round(abs(d_planeta1-d_planeta2),3)\n",
    "print(\"La distancia entre los planetas es \"+ str(d_planetas)+ \" km/s\")\n",
    "\n",
    "distance_mi = d_planetas * 0.621\n",
    "print(distance_mi)"
   ]
  },
  {
   "cell_type": "markdown",
   "metadata": {},
   "source": [
    "# Ejercicio 2\n"
   ]
  },
  {
   "cell_type": "code",
   "execution_count": 13,
   "metadata": {},
   "outputs": [
    {
     "name": "stdout",
     "output_type": "stream",
     "text": [
      "La distancia entre los planetas es de 1622600000 km/s\n",
      "1006012000.0\n"
     ]
    }
   ],
   "source": [
    "# Almacenar las entradas del usuario\n",
    "dis_planeta1 = int(input(\" Ingresa la distancia para el planeta 1 (km/s: \"))\n",
    "dis_planeta2 = int(input(\" Ingresa la distancia para el planeta 1 (km/s: \"))\n",
    "\n",
    "# Realizar el cálculo y determinar el valor absoluto\n",
    "distancia = abs(dis_planeta1 - dis_planeta2)\n",
    "print (\"La distancia entre los planetas es de\" , distancia, \"km/s\")\n",
    "\n",
    "# Convertir de KM a Millas\n",
    "dist_millas = distancia *0.62\n",
    "print (\"La distancia entre los planetas es de\" ,dist_millas, \"millas\")"
   ]
  }
 ],
 "metadata": {
  "interpreter": {
   "hash": "94abddcba5cf1fbdd1342addce217063e94d697423bfd55a2aeca769fcd0edf0"
  },
  "kernelspec": {
   "display_name": "Python 3.10.0 64-bit",
   "language": "python",
   "name": "python3"
  },
  "language_info": {
   "codemirror_mode": {
    "name": "ipython",
    "version": 3
   },
   "file_extension": ".py",
   "mimetype": "text/x-python",
   "name": "python",
   "nbconvert_exporter": "python",
   "pygments_lexer": "ipython3",
   "version": "3.10.0"
  },
  "orig_nbformat": 4
 },
 "nbformat": 4,
 "nbformat_minor": 2
}
